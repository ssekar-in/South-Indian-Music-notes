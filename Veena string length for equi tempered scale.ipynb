{
 "cells": [
  {
   "cell_type": "markdown",
   "metadata": {},
   "source": [
    "## Veena frets length"
   ]
  },
  {
   "cell_type": "code",
   "execution_count": 5,
   "metadata": {},
   "outputs": [],
   "source": [
    "import math\n",
    "from fractions import Fraction as frac"
   ]
  },
  {
   "cell_type": "code",
   "execution_count": 18,
   "metadata": {},
   "outputs": [
    {
     "name": "stdout",
     "output_type": "stream",
     "text": [
      "1 799.5 47.5 873/824 100.0\n",
      "2 754.6 44.9 873/824 100.0\n",
      "3 712.2 42.4 873/824 100.0\n",
      "4 672.3 40.0 873/824 100.0\n",
      "5 634.5 37.7 873/824 100.0\n",
      "6 598.9 35.6 873/824 100.0\n",
      "7 565.3 33.6 873/824 100.0\n",
      "8 533.6 31.7 873/824 100.0\n",
      "9 503.6 29.9 873/824 100.0\n",
      "10 475.4 28.3 873/824 100.0\n",
      "11 448.7 26.7 873/824 100.0\n",
      "12 423.5 25.2 873/824 100.0\n"
     ]
    }
   ],
   "source": [
    "frets=12\n",
    "l = [1,1,1,1,1,1,1,1,1,1,1,1,1]\n",
    "l[0] = 847\n",
    "for n in range(frets):\n",
    "    l[n+1] = l[0]/(2**((n+1)/frets))\n",
    "    ratio = (1/l[n+1])/(1/l[n])\n",
    "    print(n+1,round(l[n+1],1), round(l[n]-l[n+1], 1),frac(ratio).limit_denominator(1000),round(( 1200 * math.log(ratio,2)),1))\n",
    "     \n",
    "   "
   ]
  },
  {
   "cell_type": "code",
   "execution_count": null,
   "metadata": {},
   "outputs": [],
   "source": []
  }
 ],
 "metadata": {
  "kernelspec": {
   "display_name": "Python 3",
   "language": "python",
   "name": "python3"
  },
  "language_info": {
   "codemirror_mode": {
    "name": "ipython",
    "version": 3
   },
   "file_extension": ".py",
   "mimetype": "text/x-python",
   "name": "python",
   "nbconvert_exporter": "python",
   "pygments_lexer": "ipython3",
   "version": "3.7.3"
  }
 },
 "nbformat": 4,
 "nbformat_minor": 2
}
