{
 "cells": [
  {
   "cell_type": "code",
   "execution_count": 1,
   "metadata": {},
   "outputs": [],
   "source": [
    "import math\n",
    "from fractions import Fraction as frac"
   ]
  },
  {
   "cell_type": "code",
   "execution_count": 2,
   "metadata": {},
   "outputs": [
    {
     "name": "stdout",
     "output_type": "stream",
     "text": [
      "1 0 0.0 847.0\n",
      "256/243 90 43.0 804.0\n",
      "9/8 204 94.1 752.9\n",
      "32/27 294 132.3 714.7\n",
      "81/64 408 177.8 669.2\n",
      "4/3 498 211.8 635.2\n",
      "729/512 612 252.1 594.9\n",
      "3/2 702 282.3 564.7\n",
      "128/81 792 311.0 536.0\n",
      "27/16 906 345.1 501.9\n",
      "16/9 996 370.6 476.4\n",
      "243/128 1110 400.8 446.2\n",
      "2 1200 423.5 423.5\n"
     ]
    }
   ],
   "source": [
    "# Output gives cent values for the ratio, fret distance from first fret and vibrating length\n",
    "l = 847 # mm\n",
    "\n",
    "for f in (1,256/243, 9/8,32/27,81/64, 4/3, 729/512,3/2,128/81,27/16,16/9,243/128, 2):\n",
    "    print( frac(f).limit_denominator(1000), round( 1200* math.log((f),2)),round ((l- l*(1/f)),1), round((l*(1/f)),1))"
   ]
  },
  {
   "cell_type": "code",
   "execution_count": null,
   "metadata": {},
   "outputs": [],
   "source": []
  }
 ],
 "metadata": {
  "kernelspec": {
   "display_name": "Python 3",
   "language": "python",
   "name": "python3"
  },
  "language_info": {
   "codemirror_mode": {
    "name": "ipython",
    "version": 3
   },
   "file_extension": ".py",
   "mimetype": "text/x-python",
   "name": "python",
   "nbconvert_exporter": "python",
   "pygments_lexer": "ipython3",
   "version": "3.7.3"
  }
 },
 "nbformat": 4,
 "nbformat_minor": 2
}
