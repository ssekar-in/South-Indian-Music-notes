{
 "cells": [
  {
   "cell_type": "code",
   "execution_count": 1,
   "metadata": {},
   "outputs": [],
   "source": [
    "import math\n",
    "from fractions import Fraction as frac"
   ]
  },
  {
   "cell_type": "code",
   "execution_count": 9,
   "metadata": {},
   "outputs": [
    {
     "name": "stdout",
     "output_type": "stream",
     "text": [
      "1 793 54\n",
      "2 753 40\n",
      "3 705 48\n",
      "4 669 36\n",
      "5 627 43\n",
      "6 595 32\n",
      "7 565 30\n",
      "8 529 36\n",
      "9 502 27\n",
      "10 470 32\n",
      "11 446 24\n",
      "12 424 23\n"
     ]
    }
   ],
   "source": [
    "l = [847,1,1,1,1,1,1,1,1,1,1,1,1]\n",
    "\n",
    "cent_gap = [114,90,114,90,114,90,90,114,90,114,90,90,114]\n",
    "for n in range(12):\n",
    "    l[n+1] = 1/((1/l[n])* 2**(cent_gap[n]/1200))\n",
    "    print(n+1, round(l[n+1]), round(l[n]-l[n+1]))\n",
    "    "
   ]
  },
  {
   "cell_type": "code",
   "execution_count": 10,
   "metadata": {},
   "outputs": [
    {
     "name": "stdout",
     "output_type": "stream",
     "text": [
      "1 801 54\n",
      "2 760 41\n",
      "3 712 48\n",
      "4 675 36\n",
      "5 632 43\n",
      "6 600 32\n",
      "7 570 30\n",
      "8 534 36\n",
      "9 507 27\n",
      "10 474 32\n",
      "11 450 24\n",
      "12 428 23\n"
     ]
    }
   ],
   "source": [
    "l = [855,1,1,1,1,1,1,1,1,1,1,1,1]\n",
    "\n",
    "cent_gap = [114,90,114,90,114,90,90,114,90,114,90,90,114]\n",
    "for n in range(12):\n",
    "    l[n+1] = 1/((1/l[n])* 2**(cent_gap[n]/1200))\n",
    "    print(n+1, round(l[n+1]), round(l[n]-l[n+1]))\n",
    "    "
   ]
  },
  {
   "cell_type": "code",
   "execution_count": 11,
   "metadata": {},
   "outputs": [
    {
     "name": "stdout",
     "output_type": "stream",
     "text": [
      "1 789 54\n",
      "2 749 40\n",
      "3 702 48\n",
      "4 666 36\n",
      "5 624 42\n",
      "6 592 32\n",
      "7 562 30\n",
      "8 526 36\n",
      "9 500 27\n",
      "10 468 32\n",
      "11 444 24\n",
      "12 422 22\n"
     ]
    }
   ],
   "source": [
    "l = [843,1,1,1,1,1,1,1,1,1,1,1,1]\n",
    "\n",
    "cent_gap = [114,90,114,90,114,90,90,114,90,114,90,90,114]\n",
    "for n in range(12):\n",
    "    l[n+1] = 1/((1/l[n])* 2**(cent_gap[n]/1200))\n",
    "    print(n+1, round(l[n+1]), round(l[n]-l[n+1]))\n",
    "    "
   ]
  },
  {
   "cell_type": "code",
   "execution_count": null,
   "metadata": {},
   "outputs": [],
   "source": []
  }
 ],
 "metadata": {
  "kernelspec": {
   "display_name": "Python 3",
   "language": "python",
   "name": "python3"
  },
  "language_info": {
   "codemirror_mode": {
    "name": "ipython",
    "version": 3
   },
   "file_extension": ".py",
   "mimetype": "text/x-python",
   "name": "python",
   "nbconvert_exporter": "python",
   "pygments_lexer": "ipython3",
   "version": "3.7.3"
  }
 },
 "nbformat": 4,
 "nbformat_minor": 2
}
