{
 "cells": [
  {
   "cell_type": "markdown",
   "metadata": {},
   "source": [
    "# Microtones calculation in South Indian carnatic music"
   ]
  },
  {
   "cell_type": "markdown",
   "metadata": {},
   "source": [
    "## Calculation procedure:This is based on the book by Prof P Sambamoorthy, South Indian Music, Book:IV, Fourth edition, 1975, Chapter V on 22 srutis. \n",
    "\n",
    "### The calculation is based on perfect 5ths( ratio 3/2) and perfect 4ths ( ratio 4/3). The srutis are said to be derived from calculation fifth of fifth of fifth .. 3/2 x 3/2 x 3/2 ..reduced to octave one and fourth of fourth of fourth.. reduced to octave one. \n",
    "\n",
    "### The number of cycles taken is 11 for the fifths. As perfect fifth is 701.955 cents ( 1200 x log base2 (3/2)), the 11th cycle yields 7721.5 cents, which reduces to 7721.5 - 6 x 1200 = 521.5 cents in the first octave. In other words, upto 7th octave the calculation is proceeded.\n",
    "\n",
    "### Similarly fourth of fourth of fourth .. 4/3 x 4/3 x 4/3.. In this case the number of cycles considered is ten. As perfect fourth is 498.045 cents ( 1200 logbase2(4/3)), the 10th cycles yields 4980.5 cents, which is in the fifth octave. \n",
    "\n",
    "### Once the above srutis that is, note value in cents are calculated, they are arranged in ascending order to get the 22 srutis including microtones.\n",
    "\n",
    "### It is also observed that when calculation up to 5 cycles for fifths and 6 cycles for fourths are only considered, that is only up to third octave for both fifths and fourths, the semitones are got. "
   ]
  },
  {
   "cell_type": "code",
   "execution_count": 2,
   "metadata": {},
   "outputs": [],
   "source": [
    "import math\n",
    "from fractions import Fraction as frac"
   ]
  },
  {
   "cell_type": "code",
   "execution_count": 4,
   "metadata": {},
   "outputs": [
    {
     "name": "stdout",
     "output_type": "stream",
     "text": [
      "1 3/2 702\n",
      "2 9/8 204\n",
      "3 27/16 906\n",
      "4 81/64 408\n",
      "5 243/128 1110\n",
      "6 729/512 612\n",
      "7 236/221 114\n",
      "8 1597/997 816\n",
      "9 710/591 318\n",
      "10 355/197 1020\n",
      "11 842/623 522\n",
      "1 4/3 498\n",
      "2 16/9 996\n",
      "3 32/27 294\n",
      "4 128/81 792\n",
      "5 256/243 90\n",
      "6 1024/729 588\n",
      "7 221/118 1086\n",
      "8 221/177 384\n",
      "9 1475/886 882\n",
      "10 394/355 180\n",
      "11 623/421 678\n"
     ]
    }
   ],
   "source": [
    "for ratio in (3/2, 4/3):\n",
    "    for power in (1,2,3,4,5,6,7,8,9,10,11):\n",
    "        ratio1 =  ratio**power   \n",
    "        while ( ratio1 > 2.0):\n",
    "            ratio1 = ratio1/ 2.0\n",
    "        print( power, frac(ratio1).limit_denominator(1000), round(( 1200 * math.log(ratio1,2))))"
   ]
  },
  {
   "cell_type": "markdown",
   "metadata": {},
   "source": [
    "### These are arranged in ascending order\n",
    "### 90, 114, 180, 204, 294, 318, 408, 498, 522, 588, 612, 678, 702, 792, 816, 882, 906, 996, 1020, 1086 and 1110.\n",
    "### When only frequencies up to 3rd octave is considered, as described in the procedure above, the notes are 90, 204, 294, 408, 498, 588, 702, 792, 906, 996 and 1110 which are unequal semitones which are 90 cents or 114 cents apart.\n",
    "### The microtones are 24 cents away from the semitones. Thus we can consider 12 semitones as 2 fixed tones (Sa and Pa) and 10 pairs as below:\n",
    "### Sa= 0, R1 = 90/114, R2(G1) = 180/204, R3(G2)= 294/318, G3=384/408, M1= 498/522, M2= 588/612, Pa= 702( fixed), D1=792/816, D2(N1)= 882/906, D3(N2)= 996/1020 and N3 1086/1110.\n"
   ]
  },
  {
   "cell_type": "code",
   "execution_count": null,
   "metadata": {},
   "outputs": [],
   "source": []
  }
 ],
 "metadata": {
  "kernelspec": {
   "display_name": "Python 3",
   "language": "python",
   "name": "python3"
  },
  "language_info": {
   "codemirror_mode": {
    "name": "ipython",
    "version": 3
   },
   "file_extension": ".py",
   "mimetype": "text/x-python",
   "name": "python",
   "nbconvert_exporter": "python",
   "pygments_lexer": "ipython3",
   "version": "3.7.3"
  }
 },
 "nbformat": 4,
 "nbformat_minor": 2
}
