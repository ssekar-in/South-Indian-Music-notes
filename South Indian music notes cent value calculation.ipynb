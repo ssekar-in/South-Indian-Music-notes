{
 "cells": [
  {
   "cell_type": "markdown",
   "metadata": {},
   "source": [
    "# This code  helps to calculate cent values for a frequency ratio in South Indian music\n"
   ]
  },
  {
   "cell_type": "code",
   "execution_count": 24,
   "metadata": {},
   "outputs": [],
   "source": [
    "import math\n",
    "from fractions import Fraction as frac"
   ]
  },
  {
   "cell_type": "markdown",
   "metadata": {},
   "source": [
    "## The twelve swarasthanas: \n",
    "### Sa, Suddha rishabam- R1, Chatussruti rishabam/Suddha gandharam-R2/G1, Shatsruti rishabam/sadharana gandharam- R3/G2, Antara Gandharam-G3, Suddha madyamam- M1, Prati Madhyamam-M2, Panchamam-Pa, Suddha daivatam-D1, chatussruti daivatam/suddha nishadam D2/N1, shatsruti daivatam/kaisiki nishadam- D3/N2, kakali nishadam-N3."
   ]
  },
  {
   "cell_type": "code",
   "execution_count": 29,
   "metadata": {},
   "outputs": [
    {
     "name": "stdout",
     "output_type": "stream",
     "text": [
      "1 1.0 0\n",
      "16/15 1.0667 112\n",
      "9/8 1.125 204\n",
      "6/5 1.2 316\n",
      "5/4 1.25 386\n",
      "4/3 1.3333 498\n",
      "45/32 1.4062 590\n",
      "3/2 1.5 702\n",
      "8/5 1.6 814\n",
      "27/16 1.6875 906\n",
      "9/5 1.8 1018\n",
      "15/8 1.875 1088\n"
     ]
    }
   ],
   "source": [
    "for ratio in (1/1,16/15, 9/8, 6/5, 5/4, 4/3, 45/32, 3/2, 8/5, 27/16, 9/5, 15/8):\n",
    "    print(frac(ratio).limit_denominator(1000),round(ratio, 4),round( 1200 * math.log(ratio,2)))"
   ]
  },
  {
   "cell_type": "markdown",
   "metadata": {},
   "source": [
    "## 22 srutis:\n",
    "## sa, r1,r2,r3,r4,g1,g2,g3,g4,m1,m2,m3,m4(has two values 64/45 and 729/512), d1,d2,d3,d4,n1,n2,n3,n4. Tara sa is added for completion.\n",
    "### Notice that each step is increasing by a combination of eka sruti values,  which are 22,70 or 90 cents"
   ]
  },
  {
   "cell_type": "code",
   "execution_count": 28,
   "metadata": {},
   "outputs": [
    {
     "name": "stdout",
     "output_type": "stream",
     "text": [
      "1 1.0 0\n",
      "256/243 1.0535 90\n",
      "16/15 1.0667 112\n",
      "10/9 1.1111 182\n",
      "9/8 1.125 204\n",
      "32/27 1.1852 294\n",
      "6/5 1.2 316\n",
      "5/4 1.25 386\n",
      "81/64 1.2656 408\n",
      "4/3 1.3333 498\n",
      "27/20 1.35 520\n",
      "45/32 1.4062 590\n",
      "64/45 1.4222 610\n",
      "729/512 1.4238 612\n",
      "3/2 1.5 702\n",
      "128/81 1.5802 792\n",
      "8/5 1.6 814\n",
      "5/3 1.6667 884\n",
      "27/16 1.6875 906\n",
      "16/9 1.7778 996\n",
      "9/5 1.8 1018\n",
      "15/8 1.875 1088\n",
      "243/128 1.8984 1110\n",
      "2 2.0 1200\n"
     ]
    }
   ],
   "source": [
    "for ratio in (1/1,256/243,16/15, 10/9, 9/8,32/27, 6/5, 5/4,81/64, 4/3,27/20, 45/32,64/45,729/512, 3/2,128/81, 8/5,5/3, 27/16,16/9, 9/5, 15/8, 243/128,2/1):\n",
    "    print(frac(ratio).limit_denominator(1000),round(ratio, 4),round( 1200 * math.log(ratio,2)))"
   ]
  },
  {
   "cell_type": "code",
   "execution_count": null,
   "metadata": {},
   "outputs": [],
   "source": []
  }
 ],
 "metadata": {
  "kernelspec": {
   "display_name": "Python 3",
   "language": "python",
   "name": "python3"
  },
  "language_info": {
   "codemirror_mode": {
    "name": "ipython",
    "version": 3
   },
   "file_extension": ".py",
   "mimetype": "text/x-python",
   "name": "python",
   "nbconvert_exporter": "python",
   "pygments_lexer": "ipython3",
   "version": "3.7.3"
  }
 },
 "nbformat": 4,
 "nbformat_minor": 2
}
