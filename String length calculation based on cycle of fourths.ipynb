{
 "cells": [
  {
   "cell_type": "code",
   "execution_count": 1,
   "metadata": {},
   "outputs": [],
   "source": [
    "import math\n",
    "from fractions import Fraction as frac"
   ]
  },
  {
   "cell_type": "code",
   "execution_count": 12,
   "metadata": {},
   "outputs": [
    {
     "name": "stdout",
     "output_type": "stream",
     "text": [
      "1 90 90 43 804\n",
      "2 90 180 41 763\n",
      "3 114 294 49 715\n",
      "4 90 384 36 679\n",
      "5 114 498 43 635\n",
      "6 90 588 32 603\n",
      "7 114 702 38 565\n",
      "8 90 792 29 536\n",
      "9 90 882 27 509\n",
      "10 114 996 32 476\n",
      "11 90 1086 24 452\n",
      "12 114 1200 29 424\n"
     ]
    }
   ],
   "source": [
    "l = [847,1,1,1,1,1,1,1,1,1,1,1,1]\n",
    "cents=0\n",
    "\n",
    "cent_gap = [90,90,114,90,114,90,114,90,90,114,90,114]\n",
    "for n in range(12):\n",
    "    l[n+1] = 1/((1/l[n])* 2**(cent_gap[n]/1200))\n",
    "    cents = cents+cent_gap[n]\n",
    "    print(n+1,cent_gap[n], cents,round(l[n]-l[n+1]), round(l[n+1]))\n",
    "    "
   ]
  },
  {
   "cell_type": "code",
   "execution_count": 15,
   "metadata": {},
   "outputs": [
    {
     "name": "stdout",
     "output_type": "stream",
     "text": [
      "1 90 90 43 812\n",
      "2 90 180 41 771\n",
      "3 114 294 49 721\n",
      "4 90 384 37 685\n",
      "5 114 498 44 641\n",
      "6 90 588 32 609\n",
      "7 114 702 39 570\n",
      "8 90 792 29 541\n",
      "9 90 882 27 514\n",
      "10 114 996 33 481\n",
      "11 90 1086 24 457\n",
      "12 114 1200 29 428\n"
     ]
    }
   ],
   "source": [
    "l = [855,1,1,1,1,1,1,1,1,1,1,1,1]\n",
    "cents=0\n",
    "cent_gap = [90,90,114,90,114,90,114,90,90,114,90,114]\n",
    "for n in range(12):\n",
    "    l[n+1] = 1/((1/l[n])* 2**(cent_gap[n]/1200))\n",
    "    cents = cents+cent_gap[n]\n",
    "    print(n+1,cent_gap[n], cents,round(l[n]-l[n+1]), round(l[n+1]))\n",
    "\n",
    "    "
   ]
  },
  {
   "cell_type": "code",
   "execution_count": 16,
   "metadata": {},
   "outputs": [
    {
     "name": "stdout",
     "output_type": "stream",
     "text": [
      "1 90 90 43 800\n",
      "2 90 180 41 760\n",
      "3 114 294 48 711\n",
      "4 90 384 36 675\n",
      "5 114 498 43 632\n",
      "6 90 588 32 600\n",
      "7 114 702 38 562\n",
      "8 90 792 28 534\n",
      "9 90 882 27 506\n",
      "10 114 996 32 474\n",
      "11 90 1086 24 450\n",
      "12 114 1200 29 422\n"
     ]
    }
   ],
   "source": [
    "l = [843,1,1,1,1,1,1,1,1,1,1,1,1]\n",
    "cents=0\n",
    "cent_gap = [90,90,114,90,114,90,114,90,90,114,90,114]\n",
    "for n in range(12):\n",
    "    l[n+1] = 1/((1/l[n])* 2**(cent_gap[n]/1200))\n",
    "    cents = cents+cent_gap[n]\n",
    "    print(n+1,cent_gap[n], cents,round(l[n]-l[n+1]), round(l[n+1]))\n",
    "\n"
   ]
  },
  {
   "cell_type": "code",
   "execution_count": null,
   "metadata": {},
   "outputs": [],
   "source": []
  }
 ],
 "metadata": {
  "kernelspec": {
   "display_name": "Python 3",
   "language": "python",
   "name": "python3"
  },
  "language_info": {
   "codemirror_mode": {
    "name": "ipython",
    "version": 3
   },
   "file_extension": ".py",
   "mimetype": "text/x-python",
   "name": "python",
   "nbconvert_exporter": "python",
   "pygments_lexer": "ipython3",
   "version": "3.7.3"
  }
 },
 "nbformat": 4,
 "nbformat_minor": 2
}
